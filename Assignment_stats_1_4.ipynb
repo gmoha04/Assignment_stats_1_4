{
 "cells": [
  {
   "cell_type": "code",
   "execution_count": 117,
   "metadata": {},
   "outputs": [],
   "source": [
    "import numpy as np\n",
    "import matplotlib.pyplot as plt\n",
    "import pandas as pd\n",
    "import scipy.stats as stat"
   ]
  },
  {
   "cell_type": "markdown",
   "metadata": {},
   "source": [
    "# 2.1. Problem Statement: STATISTICS 1"
   ]
  },
  {
   "cell_type": "markdown",
   "metadata": {},
   "source": [
    "1. You survey households in your area to find the average rent they are paying. Find\n",
    "the standard deviation from the following data:\n",
    "$1550, $1700, $900, $850, $1000, $950.\n",
    "2."
   ]
  },
  {
   "cell_type": "code",
   "execution_count": 118,
   "metadata": {},
   "outputs": [],
   "source": [
    "arr = [1550, 1700, 900, 850, 1000,950] "
   ]
  },
  {
   "cell_type": "code",
   "execution_count": 122,
   "metadata": {},
   "outputs": [
    {
     "name": "stdout",
     "output_type": "stream",
     "text": [
      "Using manual calculation\n",
      "\n",
      "standard deviation is 367.99003609699366\n"
     ]
    }
   ],
   "source": [
    "print(\"Using manual calculation\\n\")\n",
    "a=np.mean(arr)\n",
    "b=0\n",
    "for i in arr:\n",
    "    b=b+(((a-i)**2)/(len(arr)-1))\n",
    "print(\"standard deviation is\",b**.5)"
   ]
  },
  {
   "cell_type": "markdown",
   "metadata": {},
   "source": [
    "2. Find the variance for the following set of data representing trees in California\n",
    "(heights in feet):\n",
    "3, 21, 98, 203, 17, 9"
   ]
  },
  {
   "cell_type": "code",
   "execution_count": 120,
   "metadata": {},
   "outputs": [],
   "source": [
    "arr1=[3, 21, 98, 203, 17, 9]"
   ]
  },
  {
   "cell_type": "code",
   "execution_count": 121,
   "metadata": {},
   "outputs": [
    {
     "name": "stdout",
     "output_type": "stream",
     "text": [
      "Using manual calculation\n",
      "\n",
      "variance is  6219.9\n"
     ]
    }
   ],
   "source": [
    "print(\"Using manual calculation\\n\")\n",
    "a=np.mean(arr1)\n",
    "b=0\n",
    "for i in arr1:\n",
    "    b=b+(((a-i)**2)/(len(arr1)-1))\n",
    "print(\"variance is \",b)"
   ]
  },
  {
   "cell_type": "markdown",
   "metadata": {},
   "source": [
    "3. In a class on 100 students, 80 students passed in all subjects, 10 failed in one\n",
    "subject, 7 failed in two subjects and 3 failed in three subjects. Find the\n",
    "probability distribution of the variable for number of subjects a student from\n",
    "the given class has failed in."
   ]
  },
  {
   "cell_type": "code",
   "execution_count": 91,
   "metadata": {},
   "outputs": [
    {
     "name": "stdout",
     "output_type": "stream",
     "text": [
      "The probability of failing in 0 subjects 0.8\n",
      "The probability of failing in 1 subjects 0.1\n",
      "The probability of failing in 2 subjects 0.07\n",
      "The probability of failing in 3 subjects 0.03\n"
     ]
    }
   ],
   "source": [
    "a=80/100\n",
    "b=10/100\n",
    "c=7/100\n",
    "d=3/100\n",
    "print(\"The probability of failing in 0 subjects\",a)\n",
    "print(\"The probability of failing in 1 subjects\",b)\n",
    "print(\"The probability of failing in 2 subjects\",c)\n",
    "print(\"The probability of failing in 3 subjects\",d)"
   ]
  },
  {
   "cell_type": "markdown",
   "metadata": {},
   "source": [
    "# 2.2. Problem Statement: STATISTICS 2"
   ]
  },
  {
   "cell_type": "markdown",
   "metadata": {},
   "source": [
    "1. A test is conducted which is consisting of 20 MCQs (multiple choices questions)\n",
    "with every MCQ having its four options out of which only one is correct.\n",
    "Determine the probability that a person undertaking that test has answered\n",
    "exactly 5 questions wrong."
   ]
  },
  {
   "cell_type": "code",
   "execution_count": 44,
   "metadata": {},
   "outputs": [],
   "source": [
    "from scipy.stats import binom"
   ]
  },
  {
   "cell_type": "code",
   "execution_count": 46,
   "metadata": {},
   "outputs": [
    {
     "name": "stdout",
     "output_type": "stream",
     "text": [
      "probability of exactly 5 questions wrong :  3.4264958230778435e-06\n"
     ]
    }
   ],
   "source": [
    "print(\"probability of exactly 5 questions wrong : \",binom.pmf(5, 20, .75))"
   ]
  },
  {
   "cell_type": "markdown",
   "metadata": {},
   "source": [
    "Manual way of calculation"
   ]
  },
  {
   "cell_type": "code",
   "execution_count": 55,
   "metadata": {},
   "outputs": [
    {
     "name": "stdout",
     "output_type": "stream",
     "text": [
      "probability of exactly 5 questions wrong :  3.4264958230778575e-06\n"
     ]
    }
   ],
   "source": [
    "import math \n",
    "a=math.factorial(20)\n",
    "b=math.factorial(5)\n",
    "c=math.factorial(15)\n",
    "d=a/(b*c)\n",
    "print(\"probability of exactly 5 questions wrong : \",d*(3/4)**5*(1/4)**15)"
   ]
  },
  {
   "cell_type": "markdown",
   "metadata": {},
   "source": [
    "2. A die marked A to E is rolled 50 times. Find the probability of getting a\n",
    "“D” exactly 5 times."
   ]
  },
  {
   "cell_type": "code",
   "execution_count": 54,
   "metadata": {},
   "outputs": [
    {
     "name": "stdout",
     "output_type": "stream",
     "text": [
      "probability of “D” exactly 5 times. :  0.029531204310523224\n"
     ]
    }
   ],
   "source": [
    "print(\"probability of “D” exactly 5 times. : \",binom.pmf(5, 50, 1/5))"
   ]
  },
  {
   "cell_type": "markdown",
   "metadata": {},
   "source": [
    "Manual way"
   ]
  },
  {
   "cell_type": "code",
   "execution_count": 49,
   "metadata": {},
   "outputs": [],
   "source": [
    "import math \n",
    "a=math.factorial(50)\n",
    "b=math.factorial(5)\n",
    "c=math.factorial(45)\n",
    "d=a/(b*c)"
   ]
  },
  {
   "cell_type": "code",
   "execution_count": 51,
   "metadata": {},
   "outputs": [
    {
     "name": "stdout",
     "output_type": "stream",
     "text": [
      "probability of “D” exactly 5 times. :  0.029531204310524296\n"
     ]
    }
   ],
   "source": [
    "print(\"probability of “D” exactly 5 times. : \",d*(1/5)**5*(4/5)**45)"
   ]
  },
  {
   "cell_type": "markdown",
   "metadata": {},
   "source": [
    "3. Two balls are drawn at random in succession without replacement from an urn\n",
    "containing 4 red balls and 6 black balls.\n",
    "Find the probabilities of all the possible outcomes."
   ]
  },
  {
   "cell_type": "code",
   "execution_count": 58,
   "metadata": {},
   "outputs": [
    {
     "name": "stdout",
     "output_type": "stream",
     "text": [
      "probability getting two  red balls 0.13333333333333333\n",
      "probability getting two  black balls 0.3333333333333333\n",
      "probability getting one black and one red 0.5333333333333333\n"
     ]
    }
   ],
   "source": [
    "print(\"probability getting two  red balls\",(4/10)*(3/9))\n",
    "print(\"probability getting two  black balls\",(6/10)*(5/9))\n",
    "print(\"probability getting one black and one red\",(4/10)*(6/9)+(6/10)*(4/9))"
   ]
  },
  {
   "cell_type": "markdown",
   "metadata": {},
   "source": [
    "# 2.3. Problem Statement: STATISTICS 3"
   ]
  },
  {
   "cell_type": "markdown",
   "metadata": {},
   "source": [
    "Blood glucose levels for obese patients have a mean of 100 with a standard deviation\n",
    "of 15. A researcher thinks that a diet high in raw cornstarch will have a positive\n",
    "effect on blood glucose levels. A sample of 36 patients who have tried the raw\n",
    "cornstarch diet have a mean glucose level of 108. Test the hypothesis that the raw\n",
    "cornstarch had an effect or not."
   ]
  },
  {
   "cell_type": "raw",
   "metadata": {},
   "source": [
    "** H0 : Mean =100 \n",
    "   H1 : Mean not equal 100**"
   ]
  },
  {
   "cell_type": "code",
   "execution_count": 63,
   "metadata": {},
   "outputs": [
    {
     "data": {
      "text/plain": [
       "2.5"
      ]
     },
     "execution_count": 63,
     "metadata": {},
     "output_type": "execute_result"
    }
   ],
   "source": [
    "SD=15/(36)**.5\n",
    "SD"
   ]
  },
  {
   "cell_type": "code",
   "execution_count": 71,
   "metadata": {},
   "outputs": [
    {
     "data": {
      "text/plain": [
       "3.2"
      ]
     },
     "execution_count": 71,
     "metadata": {},
     "output_type": "execute_result"
    }
   ],
   "source": [
    "z=(108-100)/2.5\n",
    "z"
   ]
  },
  {
   "cell_type": "code",
   "execution_count": 80,
   "metadata": {},
   "outputs": [
    {
     "data": {
      "text/plain": [
       "0.0013742758758317208"
      ]
     },
     "execution_count": 80,
     "metadata": {},
     "output_type": "execute_result"
    }
   ],
   "source": [
    "\n",
    "1-(stat.norm.cdf(3.2)-stat.norm.cdf(-3.2))"
   ]
  },
  {
   "cell_type": "markdown",
   "metadata": {},
   "source": [
    "probability of getting H0 coming under critical region (5%)  we can reject null hypothesis"
   ]
  },
  {
   "cell_type": "markdown",
   "metadata": {},
   "source": [
    "1. In one state, 52% of the voters are Republicans, and 48% are Democrats. In a\n",
    "second state, 47% of the voters are Republicans, and 53% are Democrats.\n",
    "Suppose a simple random sample of 100 voters are surveyed from each state.\n",
    "What is the probability that the survey will show a greater percentage of\n",
    "Republican voters in the second state than in the first state?"
   ]
  },
  {
   "cell_type": "code",
   "execution_count": 115,
   "metadata": {},
   "outputs": [
    {
     "name": "stdout",
     "output_type": "stream",
     "text": [
      "P1 = the proportion of Republican voters in the first state 0.52\n",
      "P2 = the proportion of Republican voters in the second state 0.47\n",
      "The number of voters sampled from the first state (n1) = 100\n",
      "the number of voters sampled from the second state (n2) = 100\n",
      "Mean of the difference in sample proportions: 0.050000000000000044\n",
      "standard deviation of the difference: 0.07061869440877536\n",
      "Z score of p1-p2 -0.708215297450425\n",
      "probability for z score -0.70821 or less(from normal disribution table) 0.24\n",
      " The probability that the survey will show a greater percentage of Republican voters in the second state than in the first state is 0.24.\n"
     ]
    }
   ],
   "source": [
    "p1=.52\n",
    "p2=.47\n",
    "print(\"P1 = the proportion of Republican voters in the first state\",p1)\n",
    "print(\"P2 = the proportion of Republican voters in the second state\",p2)\n",
    "n1=100\n",
    "n2=100\n",
    "print(\"The number of voters sampled from the first state (n1) =\", n1)\n",
    "print(\"the number of voters sampled from the second state (n2) =\",n2)\n",
    "print(\"Mean of the difference in sample proportions:\", p1-p2)\n",
    "print(\"standard deviation of the difference:\", (((p1*(1-p1))/n1)+((p2*(1- p2))/n2))**.5)\n",
    "print(\"Z score of p1-p2\", (0-.05)/.0706)\n",
    "print(\"probability for z score -0.70821 or less(from normal disribution table)\",.24)\n",
    "print(\" The probability that the survey will show a greater percentage of Republican voters in the second state than in the first state is 0.24.\")"
   ]
  },
  {
   "cell_type": "markdown",
   "metadata": {},
   "source": [
    "2. You take the SAT and score 1100. The mean score for the SAT is 1026 and the\n",
    "standard deviation is 209. How well did you score on the test compared to the\n",
    "average test taker?"
   ]
  },
  {
   "cell_type": "raw",
   "metadata": {},
   "source": [
    "Calculating the z -Score for the given population and sample."
   ]
  },
  {
   "cell_type": "code",
   "execution_count": 1,
   "metadata": {},
   "outputs": [
    {
     "data": {
      "text/plain": [
       "0.35406698564593303"
      ]
     },
     "execution_count": 1,
     "metadata": {},
     "output_type": "execute_result"
    }
   ],
   "source": [
    "z=(1100-1026)/209\n",
    "z"
   ]
  },
  {
   "cell_type": "raw",
   "metadata": {},
   "source": [
    "This means that your score was .354 std devs above the mean."
   ]
  },
  {
   "cell_type": "markdown",
   "metadata": {},
   "source": [
    "# 2.4. Problem Statement: STATISTICS 4"
   ]
  },
  {
   "cell_type": "raw",
   "metadata": {},
   "source": [
    "1. Is gender independent of education level? A random sample of 395 people were\n",
    "surveyed and each person was asked to report the highest education level they\n",
    "obtained. The data that resulted from the survey is summarized in the\n",
    "following table:\n",
    "High-School Bachelor Masters Ph.D. Total\n",
    "Female 60 54 46 41 201\n",
    "Male 40 44 53 57 194\n",
    "Total 100 98 99 98 395\n",
    "Question: Are gender and education level dependent at 5% level of\n",
    "significance? In other words, given the data collected above, is there a\n",
    "relationship between the gender of an individual and the level of education\n",
    "that they have obtained?"
   ]
  },
  {
   "cell_type": "raw",
   "metadata": {},
   "source": [
    "H0  :  There is no relationship between gender of an individual and the level of education\n",
    "Ha  :  Gender of an individual and the level of education depends"
   ]
  },
  {
   "cell_type": "code",
   "execution_count": 10,
   "metadata": {},
   "outputs": [],
   "source": [
    "a=(100*201)/395\n",
    "b=(98*201)/395\n",
    "c=(99*201)/395\n",
    "d=(98*201)/395\n",
    "e=(100*194)/395\n",
    "f=(98*194)/395\n",
    "g=(99*194)/395\n",
    "h=(98*194)/395"
   ]
  },
  {
   "cell_type": "code",
   "execution_count": 11,
   "metadata": {},
   "outputs": [
    {
     "name": "stdout",
     "output_type": "stream",
     "text": [
      "Excepted value Female : High school =  50.88607594936709\n",
      "Excepted value Female : Bachelors   =  49.868354430379746\n",
      "Excepted value Female : Masters     =  50.37721518987342\n",
      "Excepted value Female : Ph.d.       =  49.868354430379746\n",
      "Excepted value Male   : High school =  49.11392405063291\n",
      "Excepted value Male   : Bachelors   =  48.131645569620254\n",
      "Excepted value Male   : Masters     =  48.62278481012658\n",
      "Excepted value Male   : Ph.d.       =  48.131645569620254\n"
     ]
    }
   ],
   "source": [
    "print(\"Excepted value Female : High school = \" ,a)\n",
    "print(\"Excepted value Female : Bachelors   = \" ,b)\n",
    "print(\"Excepted value Female : Masters     = \" ,c)\n",
    "print(\"Excepted value Female : Ph.d.       = \" ,d)\n",
    "print(\"Excepted value Male   : High school = \" ,e)\n",
    "print(\"Excepted value Male   : Bachelors   = \" ,f)\n",
    "print(\"Excepted value Male   : Masters     = \" ,g)\n",
    "print(\"Excepted value Male   : Ph.d.       = \" ,h)\n"
   ]
  },
  {
   "cell_type": "code",
   "execution_count": 14,
   "metadata": {},
   "outputs": [
    {
     "data": {
      "text/plain": [
       "8.006066246262538"
      ]
     },
     "execution_count": 14,
     "metadata": {},
     "output_type": "execute_result"
    }
   ],
   "source": [
    "Chi_Square=(60-a)**2/a+(54-b)**2/b+(46-c)**2/c+(41-d)**2/d+(40-e)**2/e+(44-f)**2/f+(53-g)**2/g+(57-h)**2/h\n",
    "Chi_Square"
   ]
  },
  {
   "cell_type": "raw",
   "metadata": {},
   "source": [
    "The critical value of Chi_Square with 3 degree of freedom is 7.815.\n",
    "Chi_Square > 7.815.\n",
    "So we can reject null hypothesis (5% sig.).Means Gender of an individual and the level of education depends."
   ]
  },
  {
   "cell_type": "raw",
   "metadata": {},
   "source": [
    "2. Using the following data, perform a one-way analysis of variance using α=.05.\n",
    "Write up the results in APA format.\n",
    "[Group1: 51, 45, 33, 45, 67]\n",
    "[Group2: 23, 43, 23, 43, 45]\n",
    "[Group3: 56, 76, 74, 87, 56]"
   ]
  },
  {
   "cell_type": "code",
   "execution_count": 15,
   "metadata": {},
   "outputs": [],
   "source": [
    "Group1=[51, 45, 33, 45, 67]\n",
    "Group2=[23, 43, 23, 43, 45]\n",
    "Group3=[56, 76, 74, 87, 56]"
   ]
  },
  {
   "cell_type": "code",
   "execution_count": 35,
   "metadata": {},
   "outputs": [
    {
     "name": "stdout",
     "output_type": "stream",
     "text": [
      "Group 1: Value = 51 mean= 48.2 deviation = 2.799999999999997 Sq.of deviation = 7.839999999999984\n",
      "Group 1: Value = 45 mean= 48.2 deviation = -3.200000000000003 Sq.of deviation = 10.240000000000018\n",
      "Group 1: Value = 33 mean= 48.2 deviation = -15.200000000000003 Sq.of deviation = 231.04000000000008\n",
      "Group 1: Value = 45 mean= 48.2 deviation = -3.200000000000003 Sq.of deviation = 10.240000000000018\n",
      "Group 1: Value = 67 mean= 48.2 deviation = 18.799999999999997 Sq.of deviation = 353.4399999999999\n"
     ]
    }
   ],
   "source": [
    "a=0\n",
    "for i in Group1:\n",
    "    print(\"Group 1: Value = {} mean= {} deviation = {} Sq.of deviation = {}\".format(i,np.mean(Group1),i-np.mean(Group1),(i-np.mean(Group1))**2))\n",
    "    a=a+(i-np.mean(Group1))**2"
   ]
  },
  {
   "cell_type": "code",
   "execution_count": 36,
   "metadata": {},
   "outputs": [
    {
     "name": "stdout",
     "output_type": "stream",
     "text": [
      "Group 2: Value = 23 mean= 35.4 deviation = -12.399999999999999 Sq.of deviation = 153.75999999999996\n",
      "Group 2: Value = 43 mean= 35.4 deviation = 7.600000000000001 Sq.of deviation = 57.76000000000002\n",
      "Group 2: Value = 23 mean= 35.4 deviation = -12.399999999999999 Sq.of deviation = 153.75999999999996\n",
      "Group 2: Value = 43 mean= 35.4 deviation = 7.600000000000001 Sq.of deviation = 57.76000000000002\n",
      "Group 2: Value = 45 mean= 35.4 deviation = 9.600000000000001 Sq.of deviation = 92.16000000000003\n"
     ]
    }
   ],
   "source": [
    "b=0\n",
    "for i in Group2:\n",
    "    print(\"Group 2: Value = {} mean= {} deviation = {} Sq.of deviation = {}\".format(i,np.mean(Group2),i-np.mean(Group2),(i-np.mean(Group2))**2))\n",
    "    b=b+(i-np.mean(Group2))**2"
   ]
  },
  {
   "cell_type": "code",
   "execution_count": 42,
   "metadata": {},
   "outputs": [
    {
     "name": "stdout",
     "output_type": "stream",
     "text": [
      "Group 3: Value = 56 mean= 69.8 deviation = -13.799999999999997 Sq.of deviation = 424.36000000000007\n",
      "Group 3: Value = 76 mean= 69.8 deviation = 6.200000000000003 Sq.of deviation = 1648.3600000000001\n",
      "Group 3: Value = 74 mean= 69.8 deviation = 4.200000000000003 Sq.of deviation = 1489.96\n",
      "Group 3: Value = 87 mean= 69.8 deviation = 17.200000000000003 Sq.of deviation = 2662.56\n",
      "Group 3: Value = 56 mean= 69.8 deviation = -13.799999999999997 Sq.of deviation = 424.36000000000007\n"
     ]
    }
   ],
   "source": [
    "c=0\n",
    "for i in Group3:\n",
    "    print(\"Group 3: Value = {} mean= {} deviation = {} Sq.of deviation = {}\".format(i,np.mean(Group3),i-np.mean(Group3),(i-np.mean(Group2))**2))\n",
    "    c=c+(i-np.mean(Group3))**2"
   ]
  },
  {
   "cell_type": "code",
   "execution_count": 39,
   "metadata": {},
   "outputs": [
    {
     "data": {
      "text/plain": [
       "612.8"
      ]
     },
     "execution_count": 39,
     "metadata": {},
     "output_type": "execute_result"
    }
   ],
   "source": [
    "a"
   ]
  },
  {
   "cell_type": "code",
   "execution_count": 40,
   "metadata": {},
   "outputs": [
    {
     "data": {
      "text/plain": [
       "515.2"
      ]
     },
     "execution_count": 40,
     "metadata": {},
     "output_type": "execute_result"
    }
   ],
   "source": [
    "b"
   ]
  },
  {
   "cell_type": "code",
   "execution_count": 43,
   "metadata": {},
   "outputs": [
    {
     "data": {
      "text/plain": [
       "732.8"
      ]
     },
     "execution_count": 43,
     "metadata": {},
     "output_type": "execute_result"
    }
   ],
   "source": [
    "c"
   ]
  },
  {
   "cell_type": "code",
   "execution_count": 44,
   "metadata": {},
   "outputs": [],
   "source": [
    "V1=a/4\n",
    "V2=b/4\n",
    "V3=c/4"
   ]
  },
  {
   "cell_type": "code",
   "execution_count": 45,
   "metadata": {},
   "outputs": [
    {
     "data": {
      "text/plain": [
       "155.06666666666666"
      ]
     },
     "execution_count": 45,
     "metadata": {},
     "output_type": "execute_result"
    }
   ],
   "source": [
    "MSerror = (V1+V2+V3)/3\n",
    "MSerror"
   ]
  },
  {
   "cell_type": "code",
   "execution_count": 47,
   "metadata": {},
   "outputs": [
    {
     "data": {
      "text/plain": [
       "12"
      ]
     },
     "execution_count": 47,
     "metadata": {},
     "output_type": "execute_result"
    }
   ],
   "source": [
    "DFerror= 15-3\n",
    "DFerror"
   ]
  },
  {
   "cell_type": "code",
   "execution_count": 49,
   "metadata": {},
   "outputs": [
    {
     "data": {
      "text/plain": [
       "1860.8"
      ]
     },
     "execution_count": 49,
     "metadata": {},
     "output_type": "execute_result"
    }
   ],
   "source": [
    "SSerror = DFerror*MSerror\n",
    "SSerror"
   ]
  },
  {
   "cell_type": "code",
   "execution_count": 51,
   "metadata": {},
   "outputs": [
    {
     "data": {
      "text/plain": [
       "[48.2, 35.4, 69.8]"
      ]
     },
     "execution_count": 51,
     "metadata": {},
     "output_type": "execute_result"
    }
   ],
   "source": [
    "Mn=[np.mean(Group1),np.mean(Group2),np.mean(Group3)]\n",
    "Mn"
   ]
  },
  {
   "cell_type": "code",
   "execution_count": 52,
   "metadata": {},
   "outputs": [
    {
     "name": "stdout",
     "output_type": "stream",
     "text": [
      "Group Mean: Grand Mean = 48.2 mean= 51.133333333333326 deviation = -2.933333333333323 Sq.of deviation = 8.604444444444383\n",
      "Group Mean: Grand Mean = 35.4 mean= 51.133333333333326 deviation = -15.733333333333327 Sq.of deviation = 247.5377777777776\n",
      "Group Mean: Grand Mean = 69.8 mean= 51.133333333333326 deviation = 18.66666666666667 Sq.of deviation = 348.4444444444446\n"
     ]
    }
   ],
   "source": [
    "d=0\n",
    "for i in Mn:\n",
    "    print(\"Group Mean: Grand Mean = {} mean= {} deviation = {} Sq.of deviation = {}\".format(i,np.mean(Mn),i-np.mean(Mn),(i-np.mean(Mn))**2))\n",
    "    d=d+(i-np.mean(Mn))**2"
   ]
  },
  {
   "cell_type": "code",
   "execution_count": 55,
   "metadata": {},
   "outputs": [
    {
     "data": {
      "text/plain": [
       "1511.4666666666665"
      ]
     },
     "execution_count": 55,
     "metadata": {},
     "output_type": "execute_result"
    }
   ],
   "source": [
    "Vmn=d/2\n",
    "MSbetween=(Vmn)*(5)\n",
    "MSbetween"
   ]
  },
  {
   "cell_type": "code",
   "execution_count": 56,
   "metadata": {},
   "outputs": [
    {
     "data": {
      "text/plain": [
       "3022.933333333333"
      ]
     },
     "execution_count": 56,
     "metadata": {},
     "output_type": "execute_result"
    }
   ],
   "source": [
    "SSgroup =MSbetween *2\n",
    "SSgroup"
   ]
  },
  {
   "cell_type": "code",
   "execution_count": 57,
   "metadata": {},
   "outputs": [
    {
     "data": {
      "text/plain": [
       "9.747205503009457"
      ]
     },
     "execution_count": 57,
     "metadata": {},
     "output_type": "execute_result"
    }
   ],
   "source": [
    "F=MSbetween/MSerror\n",
    "F"
   ]
  },
  {
   "cell_type": "markdown",
   "metadata": {},
   "source": [
    "We can reject the null hypothesis since F critical is 3.89"
   ]
  },
  {
   "cell_type": "code",
   "execution_count": 63,
   "metadata": {},
   "outputs": [
    {
     "data": {
      "text/plain": [
       "0.61898001528885"
      ]
     },
     "execution_count": 63,
     "metadata": {},
     "output_type": "execute_result"
    }
   ],
   "source": [
    "η2=SSgroup/(SSgroup+SSerror)\n",
    "η2"
   ]
  },
  {
   "cell_type": "code",
   "execution_count": 62,
   "metadata": {},
   "outputs": [
    {
     "name": "stdout",
     "output_type": "stream",
     "text": [
      "APA Format : F(2, 12)=9.75, p <0.05, η2=0.62.\n"
     ]
    }
   ],
   "source": [
    "print(\"APA Format : F(2, 12)=9.75, p <0.05, η2=0.62.\")"
   ]
  },
  {
   "cell_type": "markdown",
   "metadata": {},
   "source": [
    "3. Calculate F Test for given 10, 20, 30, 40, 50 and 5,10,15, 20, 25.\n",
    "For 10, 20, 30, 40, 50:"
   ]
  },
  {
   "cell_type": "code",
   "execution_count": 78,
   "metadata": {},
   "outputs": [
    {
     "name": "stdout",
     "output_type": "stream",
     "text": [
      "Variance of A  250.0\n",
      "Variance of B  62.5\n",
      "F value is  4.0\n"
     ]
    }
   ],
   "source": [
    "A=[10, 20, 30, 40, 50]\n",
    "B=[5,10,15, 20, 25]\n",
    "Amean=np.mean(A)\n",
    "Bmean=np.mean(B)\n",
    "Avar=0\n",
    "for i in A:\n",
    "    Avar=Avar+(((Amean-i)**2)/(len(A)-1))\n",
    "print(\"Variance of A \",Avar)\n",
    "Bvar=0\n",
    "for i in B:\n",
    "    Bvar=Bvar+(((Bmean-i)**2)/(len(B)-1))\n",
    "print(\"Variance of B \",Bvar)\n",
    "print(\"F value is \",Avar/Bvar)"
   ]
  }
 ],
 "metadata": {
  "kernelspec": {
   "display_name": "Python 3",
   "language": "python",
   "name": "python3"
  },
  "language_info": {
   "codemirror_mode": {
    "name": "ipython",
    "version": 3
   },
   "file_extension": ".py",
   "mimetype": "text/x-python",
   "name": "python",
   "nbconvert_exporter": "python",
   "pygments_lexer": "ipython3",
   "version": "3.7.1"
  }
 },
 "nbformat": 4,
 "nbformat_minor": 2
}
